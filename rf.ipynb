{
 "cells": [
  {
   "cell_type": "code",
   "execution_count": 1,
   "id": "4cab9b90",
   "metadata": {},
   "outputs": [],
   "source": [
    "from sklearn.metrics import accuracy_score, precision_recall_fscore_support, roc_auc_score, confusion_matrix, average_precision_score\n",
    "import joblib\n",
    "import pandas as pd"
   ]
  },
  {
   "cell_type": "code",
   "execution_count": 2,
   "id": "5c7aa448",
   "metadata": {},
   "outputs": [],
   "source": [
    "DATASET = 'mcmed' # penn, mcmed, physionet"
   ]
  },
  {
   "cell_type": "code",
   "execution_count": 3,
   "id": "555dbeed",
   "metadata": {},
   "outputs": [],
   "source": [
    "# LOAD DATA\n",
    "df = pd.read_parquet(f'data/{DATASET}_classic.parquet')"
   ]
  },
  {
   "cell_type": "code",
   "execution_count": 4,
   "id": "4cc1a690",
   "metadata": {},
   "outputs": [],
   "source": [
    "X = df.drop(columns=['pat_enc_csn_id', 'label'])\n",
    "y = df[['label']]"
   ]
  },
  {
   "cell_type": "code",
   "execution_count": 10,
   "id": "118256ab",
   "metadata": {},
   "outputs": [
    {
     "name": "stderr",
     "output_type": "stream",
     "text": [
      "/opt/conda/lib/python3.10/site-packages/sklearn/base.py:347: InconsistentVersionWarning: Trying to unpickle estimator DecisionTreeClassifier from version 1.6.1 when using version 1.3.0. This might lead to breaking code or invalid results. Use at your own risk. For more info please refer to:\n",
      "https://scikit-learn.org/stable/model_persistence.html#security-maintainability-limitations\n",
      "  warnings.warn(\n",
      "/opt/conda/lib/python3.10/site-packages/sklearn/base.py:347: InconsistentVersionWarning: Trying to unpickle estimator DecisionTreeClassifier from version 1.6.1 when using version 1.3.0. This might lead to breaking code or invalid results. Use at your own risk. For more info please refer to:\n",
      "https://scikit-learn.org/stable/model_persistence.html#security-maintainability-limitations\n",
      "  warnings.warn(\n",
      "/opt/conda/lib/python3.10/site-packages/sklearn/base.py:347: InconsistentVersionWarning: Trying to unpickle estimator RandomForestClassifier from version 1.6.1 when using version 1.3.0. This might lead to breaking code or invalid results. Use at your own risk. For more info please refer to:\n",
      "https://scikit-learn.org/stable/model_persistence.html#security-maintainability-limitations\n",
      "  warnings.warn(\n"
     ]
    }
   ],
   "source": [
    "# LOAD MODEL\n",
    "model = joblib.load(f'checkpoints/{DATASET}/{DATASET}_rf.pkl')"
   ]
  },
  {
   "cell_type": "code",
   "execution_count": 11,
   "id": "5c565a63",
   "metadata": {},
   "outputs": [
    {
     "name": "stderr",
     "output_type": "stream",
     "text": [
      "/opt/conda/lib/python3.10/site-packages/sklearn/base.py:347: InconsistentVersionWarning: Trying to unpickle estimator SimpleImputer from version 1.6.1 when using version 1.3.0. This might lead to breaking code or invalid results. Use at your own risk. For more info please refer to:\n",
      "https://scikit-learn.org/stable/model_persistence.html#security-maintainability-limitations\n",
      "  warnings.warn(\n"
     ]
    }
   ],
   "source": [
    "# IMPUTE DATA: FILL IN MISSING VALUES\n",
    "imputer = joblib.load(f'checkpoints/{DATASET}/{DATASET}_rf_imputer.pkl')\n",
    "X = X[model.feature_names_in_]\n",
    "X = imputer.transform(X)\n",
    "X = pd.DataFrame(X, columns=model.feature_names_in_)"
   ]
  },
  {
   "cell_type": "code",
   "execution_count": 7,
   "id": "3b8b5d3e",
   "metadata": {},
   "outputs": [],
   "source": [
    "# INFERENCE\n",
    "pred = model.predict(X)\n",
    "pred_prob = model.predict_proba(X)[:, 1]"
   ]
  },
  {
   "cell_type": "code",
   "execution_count": 8,
   "id": "8027d401",
   "metadata": {},
   "outputs": [],
   "source": [
    "# COMPUTE METRICS\n",
    "acc = accuracy_score(y, pred)\n",
    "precision, recall, f1, _ = precision_recall_fscore_support(y, pred, average='binary')\n",
    "conf_matrix = confusion_matrix(y, pred) \n",
    "\n",
    "auc = roc_auc_score(y, pred_prob)\n",
    "auprc = average_precision_score(y, pred_prob)"
   ]
  },
  {
   "cell_type": "code",
   "execution_count": 9,
   "id": "6012463d",
   "metadata": {},
   "outputs": [
    {
     "name": "stdout",
     "output_type": "stream",
     "text": [
      "Acc: 0.9861, F1: 0.7143, AUC: 0.8911, AUPRC: 0.6899\n",
      "[[6407    6]\n",
      " [  86  115]]\n"
     ]
    }
   ],
   "source": [
    "print(f\"Acc: {acc:.4f}, F1: {f1:.4f}, AUC: {auc:.4f}, AUPRC: {auprc:.4f}\")\n",
    "print(conf_matrix)"
   ]
  },
  {
   "cell_type": "code",
   "execution_count": null,
   "id": "be129f07-b944-4673-ad9b-365e95a85d10",
   "metadata": {},
   "outputs": [],
   "source": []
  }
 ],
 "metadata": {
  "kernelspec": {
   "display_name": "Python 3 (ipykernel)",
   "language": "python",
   "name": "python3"
  },
  "language_info": {
   "codemirror_mode": {
    "name": "ipython",
    "version": 3
   },
   "file_extension": ".py",
   "mimetype": "text/x-python",
   "name": "python",
   "nbconvert_exporter": "python",
   "pygments_lexer": "ipython3",
   "version": "3.10.13"
  }
 },
 "nbformat": 4,
 "nbformat_minor": 5
}
